{
 "cells": [
  {
   "cell_type": "code",
   "execution_count": 1,
   "metadata": {},
   "outputs": [],
   "source": [
    "import numpy as np\n",
    "import matplotlib.pyplot as plt\n",
    "from matplotlib.pyplot import figure\n",
    "\n",
    "import os\n",
    "import cv2"
   ]
  },
  {
   "cell_type": "code",
   "execution_count": 2,
   "metadata": {},
   "outputs": [],
   "source": [
    "#setting the directories for the data\n",
    "\n",
    "#for the x data set\n",
    "train_dir =  r\"C:\\Users\\Zaid Salahuddin\\Documents\\Snek Schizms\\Subway Surfers RL\\Game States\\screenshots\\Train\"\n",
    "test_dir = r\"C:\\Users\\Zaid Salahuddin\\Documents\\Snek Schizms\\Subway Surfers RL\\Game States\\screenshots\\Test\"\n",
    "\n",
    "#x data function\n",
    "#going through the image folders\n",
    "def get_images(dir):\n",
    "    r = []\n",
    "    imgs = []\n",
    "    for root, dirs, files in os.walk(dir):\n",
    "        for name in files:\n",
    "            r.append(os.path.join(root, name))\n",
    "    for file in r:\n",
    "        img = cv2.imread(file)\n",
    "        imgs.append(img)\n",
    "    return imgs\n",
    "\n",
    "#y data function\n",
    "#tbm\n",
    "\n",
    "x_train = get_images(train_dir)\n",
    "x_test = get_images(test_dir)"
   ]
  },
  {
   "cell_type": "code",
   "execution_count": 28,
   "metadata": {},
   "outputs": [
    {
     "name": "stdout",
     "output_type": "stream",
     "text": [
      "[]\n"
     ]
    }
   ],
   "source": [
    "#for the y dataset\n",
    "base = r\"C:\\Users\\Zaid Salahuddin\\Documents\\Snek Schizms\\Subway Surfers RL\\Game States\\screenshots\"\n",
    "\n",
    "#y training data\n",
    "train_start_menu_dir = base + r\"Train\\1 Start Menu\"\n",
    "train_in_game_menu_dir = base + r\"Train\\2 In Game\"\n",
    "train_second_chance_dir = base + r\"Train\\3 Second Chance\"\n",
    "train_rewards_dir = base + r\"Train\\4 Rewards\"\n",
    "train_replay_and_pause_dir = base + r\"Train\\5 Replay and Pause\"\n",
    "\n",
    "#y testing data\n",
    "test_start_menu_dir = base + r\"Test\\1 Start Menu\"\n",
    "test_in_game_menu_dir = base + r\"Test\\2 In Game\"\n",
    "test_second_chance_dir = base + r\"Test\\3 Second Chance\"\n",
    "test_rewards_dir = base + r\"Test\\4 Rewards\"\n",
    "test_replay_and_pause_dir = base + r\"Test\\5 Replay and Pause\"\n",
    "\n",
    "y_train = np.array([])\n",
    "y_test = np.array([])\n",
    "\n",
    "for root, dirs, files in os.walk(train_start_menu_dir):\n",
    "    print('appendign')\n",
    "    y_train.append(1)\n",
    "print(y_train)\n",
    "#y_train.shape()"
   ]
  },
  {
   "cell_type": "code",
   "execution_count": 29,
   "metadata": {},
   "outputs": [
    {
     "name": "stdout",
     "output_type": "stream",
     "text": [
      "446\n",
      "(120, 65)\n",
      "min: 0.0  max: 1.0\n"
     ]
    },
    {
     "data": {
      "text/plain": [
       "<matplotlib.image.AxesImage at 0x1b70ede6208>"
      ]
     },
     "execution_count": 29,
     "metadata": {},
     "output_type": "execute_result"
    },
    {
     "data": {
      "image/png": "[encoded data removed]",
      "text/plain": [
       "<Figure size 800x640 with 1 Axes>"
      ]
     },
     "metadata": {
      "needs_background": "light"
     },
     "output_type": "display_data"
    }
   ],
   "source": [
    "i = np.random.randint(0,len(x_train))\n",
    "print(i)\n",
    "image = x_train[i]\n",
    "\n",
    "#image proccessing\n",
    "image = cv2.resize(image,(65,120))\n",
    "image = cv2.cvtColor(image, cv2.COLOR_BGR2GRAY)\n",
    "image = image/255\n",
    "\n",
    "print(image.shape)\n",
    "print('min:', image.min(),' max:', image.max())\n",
    "\n",
    "figure(figsize=(10, 8), dpi=80)\n",
    "plt.imshow(image, cmap=\"Greys\")"
   ]
  }
 ],
 "metadata": {
  "kernelspec": {
   "display_name": "rl_env",
   "language": "python",
   "name": "python3"
  },
  "language_info": {
   "codemirror_mode": {
    "name": "ipython",
    "version": 3
   },
   "file_extension": ".py",
   "mimetype": "text/x-python",
   "name": "python",
   "nbconvert_exporter": "python",
   "pygments_lexer": "ipython3",
   "version": "3.7.10"
  },
  "orig_nbformat": 4
 },
 "nbformat": 4,
 "nbformat_minor": 2
}
